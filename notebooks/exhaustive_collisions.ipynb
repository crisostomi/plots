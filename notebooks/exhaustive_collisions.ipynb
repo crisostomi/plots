{
 "cells": [
  {
   "cell_type": "code",
   "execution_count": 100,
   "id": "885ff965",
   "metadata": {},
   "outputs": [],
   "source": [
    "import pandas as pd "
   ]
  },
  {
   "cell_type": "code",
   "execution_count": 101,
   "id": "99a1cdf5",
   "metadata": {},
   "outputs": [],
   "source": [
    "import pandas as pd\n",
    "\n",
    "import os\n",
    "import math\n",
    "import pandas as pd\n",
    "import numpy as np\n",
    "import matplotlib.pyplot as plt\n",
    "import json \n",
    "import seaborn as sns "
   ]
  },
  {
   "cell_type": "code",
   "execution_count": 102,
   "id": "a655f506",
   "metadata": {},
   "outputs": [],
   "source": [
    "plt.rcParams.update(\n",
    "    {\n",
    "        \"text.usetex\": False,\n",
    "        \"font.family\": \"serif\",\n",
    "        \"axes.titlesize\": 24,        # Larger axes/title fonts\n",
    "        \"legend.fontsize\": 24,\n",
    "    }\n",
    ")\n",
    "sns.set_context(\"talk\")\n"
   ]
  },
  {
   "cell_type": "code",
   "execution_count": 103,
   "id": "cb7ffc5c",
   "metadata": {},
   "outputs": [],
   "source": [
    "palette_name = 'ocean_sunset'\n",
    "palette = json.load(open(f'../palettes/{palette_name}.json', 'r'))"
   ]
  },
  {
   "cell_type": "code",
   "execution_count": 104,
   "id": "2a11584f",
   "metadata": {},
   "outputs": [
    {
     "data": {
      "text/plain": [
       "{'Rich black': '#001219',\n",
       " 'Midnight green': '#005f73',\n",
       " 'Dark cyan': '#0a9396',\n",
       " 'Tiffany Blue': '#94d2bd',\n",
       " 'Vanilla': '#e9d8a6',\n",
       " 'Gamboge': '#ee9b00',\n",
       " 'Alloy orange': '#ca6702',\n",
       " 'Rust': '#bb3e03',\n",
       " 'Rufous': '#ae2012',\n",
       " 'Auburn': '#9b2226'}"
      ]
     },
     "execution_count": 104,
     "metadata": {},
     "output_type": "execute_result"
    }
   ],
   "source": [
    "palette"
   ]
  },
  {
   "cell_type": "markdown",
   "id": "3b49b92e",
   "metadata": {},
   "source": [
    "## Exhaustive"
   ]
  },
  {
   "cell_type": "code",
   "execution_count": 105,
   "id": "d09e8559",
   "metadata": {},
   "outputs": [],
   "source": [
    "model_names = ['gemma-3-1b-pt', 'gpt2']"
   ]
  },
  {
   "cell_type": "code",
   "execution_count": 106,
   "id": "d4675bc0",
   "metadata": {},
   "outputs": [
    {
     "name": "stdout",
     "output_type": "stream",
     "text": [
      "Processing model: gemma-3-1b-pt\n",
      "   sample_idx        count          mean          std        min           max\n",
      "0           0  34359869440   9491.273973  2122.655164  28.347353  46543.382812\n",
      "1           1  34359869440   9338.912643  1939.911406  27.463047  38455.750000\n",
      "2           2  34359869440  10061.169184  1784.916624  26.331551  48011.203125\n",
      "3           3  34359869440  10436.978361  2685.334255  43.648937  52808.609375\n",
      "4           4  34359869440   9646.630449  2012.337411  29.853027  38111.019531\n",
      "5           5  34359869440  10436.449318  2344.532139  18.496944  36690.414062\n",
      "6           6  34359869440   9509.748273  2237.611196  17.228855  36161.695312\n",
      "7           7  34359869440   9157.106724  2083.316769  20.826887  34140.921875\n",
      "8           8  34359869440  11058.262927  2475.411253  22.809589  62162.691406\n",
      "9           9  34359869440  10886.070964  2507.579198  18.572681  52399.929688\n",
      "Processing model: gpt2\n",
      "   sample_idx       count        mean        std       min          max\n",
      "0           0  1262908153  181.936430  41.492789  3.429164  1129.703613\n",
      "1           1  1262908153  168.808854  38.830127  4.335365  1112.325928\n",
      "2           2  1262908153  166.570910  41.829423  3.037109   997.642029\n",
      "3           3  1262908153  161.068692  34.259261  5.177292   951.377075\n",
      "4           4  1262908153  151.167611  29.910828  4.431568   973.604980\n",
      "5           5  1262908153  151.661773  30.048600  4.510513   945.705872\n",
      "6           6  1262908153  134.704706  26.540656  2.609833   946.488037\n",
      "7           7  1262908153  181.929105  42.466162  4.766523  1105.464966\n",
      "8           8  1262908153  167.171865  39.525326  4.359600  1085.843140\n",
      "9           9  1262908153  180.808652  42.022992  3.470453  1174.111816\n"
     ]
    }
   ],
   "source": [
    "model_name_to_data = {}\n",
    "\n",
    "for model in model_names:\n",
    "\n",
    "    print(f'Processing model: {model}')\n",
    "    filename_fn = lambda x: f'{x}-sample-stats.csv'\n",
    "    df = pd.read_csv(f'../data/exhaustive/{filename_fn(model)}')\n",
    "    model_name_to_data[model] = df\n",
    "\n",
    "    print(df)"
   ]
  },
  {
   "cell_type": "markdown",
   "id": "78315e23",
   "metadata": {},
   "source": [
    "## Box plot"
   ]
  },
  {
   "cell_type": "code",
   "execution_count": 107,
   "id": "9fc52b64",
   "metadata": {},
   "outputs": [],
   "source": [
    "Z_25 = 0.6744897501960817  # Φ^{-1}(0.75) for normal ≈ 0.67449\n",
    "\n",
    "def _safe_float(x):\n",
    "    try:\n",
    "        return float(x)\n",
    "    except Exception:\n",
    "        return np.nan\n",
    "\n",
    "def stats_row_to_bxp_dict(row):\n",
    "    \"\"\"\n",
    "    Convert a row with (sample, mean, std, min, max) to a dict for matplotlib.bxp.\n",
    "    Expected row fields: 'layer', 'mean', 'std', 'min', 'max'\n",
    "    \"\"\"\n",
    "    sample = int(row[\"sample_idx\"])\n",
    "    mu  = _safe_float(row[\"mean\"])\n",
    "    sd  = _safe_float(row[\"std\"])\n",
    "    mn  = _safe_float(row[\"min\"])\n",
    "    mx  = _safe_float(row[\"max\"])\n",
    "\n",
    "    # Fallbacks if missing/NaN\n",
    "    if np.isnan(mu): mu = 0.0\n",
    "    if np.isnan(sd): sd = 0.0\n",
    "    if np.isnan(mn): mn = mu\n",
    "    if np.isnan(mx): mx = mu\n",
    "\n",
    "    # Ensure min <= max\n",
    "    if mx < mn:\n",
    "        mn, mx = mx, mn\n",
    "\n",
    "    # Approximate quartiles (normal assumption), then clamp to [min, max]\n",
    "    q1 = mu - Z_25 * sd\n",
    "    q3 = mu + Z_25 * sd\n",
    "    med = mu\n",
    "\n",
    "    q1 = min(max(q1, mn), mx)\n",
    "    q3 = min(max(q3, mn), mx)\n",
    "    med = min(max(med, mn), mx)\n",
    "\n",
    "    # If q1 > q3 (pathological due to clamping), collapse to median\n",
    "    if q1 > q3:\n",
    "        q1 = q3 = med = min(max(mu, mn), mx)\n",
    "\n",
    "    return {\n",
    "        \"label\": f\"{sample}\",\n",
    "        \"whislo\": mn,   # bottom whisker\n",
    "        \"q1\": q1,       # 25th percentile\n",
    "        \"med\": med,     # median (here: mean, clamped)\n",
    "        \"q3\": q3,       # 75th percentile\n",
    "        \"whishi\": mx,   # top whisker\n",
    "        \"fliers\": []\n",
    "    }"
   ]
  },
  {
   "cell_type": "code",
   "execution_count": 108,
   "id": "56d05ffb",
   "metadata": {},
   "outputs": [],
   "source": [
    "output_dir = \"../figures/exhaustive_collisions\"\n",
    "\n",
    "for model in model_names:\n",
    "    df = model_name_to_data[model]\n",
    "\n",
    "    # Expect columns: layer, count, mean, std, min, max\n",
    "    required = {\"mean\", \"std\", \"min\", \"max\"}\n",
    "    missing = required - set(map(str.lower, df.columns))\n",
    "    if missing:\n",
    "        # Try case-insensitive rename\n",
    "        lower_map = {c.lower(): c for c in df.columns}\n",
    "        df = df.rename(columns={lower_map.get(k, k): k for k in required if k in lower_map})\n",
    "\n",
    "    # Build bxp stats list\n",
    "    bxp_stats = [stats_row_to_bxp_dict(row) for _, row in df.iterrows()]\n",
    "\n",
    "    fig, ax = plt.subplots(figsize=(max(8, len(bxp_stats) * 0.35), 3))\n",
    "\n",
    "    ax.bxp(\n",
    "        bxp_stats,\n",
    "        showfliers=False,\n",
    "        widths=0.6,\n",
    "        medianprops=dict(color=palette['Auburn'], linewidth=1.8)\n",
    "    )\n",
    "\n",
    "    ax.set_xlabel(\"Sample Index\")   \n",
    "    ax.set_ylabel(\"L2 Distance\")\n",
    "\n",
    "    # Improve readability\n",
    "    ax.grid(axis=\"y\", linestyle=\"--\", alpha=0.4)\n",
    "\n",
    "    ax.tick_params(axis=\"x\", labelrotation=0, labelsize=14, pad=8, width=0.5)\n",
    "    ax.tick_params(axis=\"y\", labelsize=14, width=0.5)\n",
    "\n",
    "    ax.tick_params(axis=\"y\", which=\"minor\", width=0.0, length=3)\n",
    "    ax.tick_params(axis=\"y\", which=\"major\", width=1.2, length=6)\n",
    "\n",
    "    all_vals = []\n",
    "    for b in bxp_stats:\n",
    "        all_vals.extend([b[\"whislo\"], b[\"q1\"], b[\"med\"], b[\"q3\"], b[\"whishi\"]])\n",
    "    if all(v > 0 for v in all_vals):\n",
    "        ax.set_yscale(\"log\")\n",
    "\n",
    "    # Draw the collision threshold line\n",
    "    collision_threshold = 1e-6\n",
    "    ax.axhline(collision_threshold, linestyle=\"--\", linewidth=2.0,\n",
    "               color=palette['Auburn'], alpha=0.9, zorder=10)\n",
    "    ax.annotate(\n",
    "        \"Collision threshold\",\n",
    "        xy=(0.5, collision_threshold), xycoords=(\"axes fraction\", \"data\"),\n",
    "        xytext=(0, 8), textcoords=\"offset points\",\n",
    "        ha=\"center\", va=\"bottom\",\n",
    "        fontsize=24, color=palette['Auburn'],\n",
    "        bbox=dict(boxstyle=\"round,pad=0.3\", fc=\"white\", ec=\"none\", alpha=0.8)\n",
    "    )\n",
    "\n",
    "    # === Global minimum line ===\n",
    "    global_min = min(b[\"whislo\"] for b in bxp_stats)\n",
    "    # ax.axhline(global_min, linestyle=\":\", linewidth=1.5, color=palette['Midnight green'], alpha=0.9, zorder=9)\n",
    "    # ax.annotate(\n",
    "    #     f\"minimum distance: {global_min:.2f}\",\n",
    "    #     xy=(0.5, global_min), xycoords=(\"axes fraction\", \"data\"),\n",
    "    #     xytext=(0, 5), textcoords=\"offset points\",\n",
    "    #     ha=\"center\", va=\"bottom\",\n",
    "    #     fontsize=18, color=palette['Midnight green'],\n",
    "    #     bbox=dict(boxstyle=\"round,pad=0.2\", fc=\"white\", ec=\"none\", alpha=0.7)\n",
    "    # )\n",
    "\n",
    "    # Set model-specific y-axis limits and ticks\n",
    "    if 'gemma' in model.lower():\n",
    "        yticks = [1e-7, 1e-1, 1e4]\n",
    "        combined_ylim = (1e-7, 1e5)\n",
    "    else:  # GPT2 and other models\n",
    "        yticks = [1e-7, 1e-1, 1e2]\n",
    "        combined_ylim = (1e-7, 1e4)\n",
    "    \n",
    "    ax.set_ylim(combined_ylim)\n",
    "    ax.set_yticks(yticks)  \n",
    "\n",
    "    plt.tight_layout()\n",
    "    \n",
    "    fig.subplots_adjust(bottom=0.25)  # Increase bottom margin for xlabel\n",
    "\n",
    "    out_path = os.path.join(output_dir, f\"exhaustive-{model}-boxplot.pdf\")\n",
    "    plt.savefig(out_path, dpi=200, bbox_inches='tight', pad_inches=0.1)\n",
    "    plt.close(fig)\n"
   ]
  }
 ],
 "metadata": {
  "kernelspec": {
   "display_name": ".venv",
   "language": "python",
   "name": "python3"
  },
  "language_info": {
   "codemirror_mode": {
    "name": "ipython",
    "version": 3
   },
   "file_extension": ".py",
   "mimetype": "text/x-python",
   "name": "python",
   "nbconvert_exporter": "python",
   "pygments_lexer": "ipython3",
   "version": "3.13.2"
  }
 },
 "nbformat": 4,
 "nbformat_minor": 5
}
