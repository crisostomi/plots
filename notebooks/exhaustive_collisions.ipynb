{
 "cells": [
  {
   "cell_type": "code",
   "execution_count": 1,
   "id": "885ff965",
   "metadata": {},
   "outputs": [],
   "source": [
    "import pandas as pd "
   ]
  },
  {
   "cell_type": "markdown",
   "id": "3b49b92e",
   "metadata": {},
   "source": [
    "## Exhaustive"
   ]
  },
  {
   "cell_type": "code",
   "execution_count": 2,
   "id": "d09e8559",
   "metadata": {},
   "outputs": [],
   "source": [
    "model_names = ['gemma-3-1b-pt', 'gpt2']"
   ]
  },
  {
   "cell_type": "code",
   "execution_count": 3,
   "id": "d4675bc0",
   "metadata": {},
   "outputs": [
    {
     "name": "stdout",
     "output_type": "stream",
     "text": [
      "   sample_idx        count          mean          std        min           max\n",
      "0           0  34359869440   9491.273973  2122.655164  28.347353  46543.382812\n",
      "1           1  34359869440   9338.912643  1939.911406  27.463047  38455.750000\n",
      "2           2  34359869440  10061.169184  1784.916624  26.331551  48011.203125\n",
      "3           3  34359869440  10436.978361  2685.334255  43.648937  52808.609375\n",
      "4           4  34359869440   9646.630449  2012.337411  29.853027  38111.019531\n",
      "   sample_idx       count        mean        std       min          max\n",
      "0           0  1262908153  181.936430  41.492789  3.429164  1129.703613\n",
      "1           1  1262908153  168.808854  38.830127  4.335365  1112.325928\n",
      "2           2  1262908153  166.570910  41.829423  3.037109   997.642029\n",
      "3           3  1262908153  161.068692  34.259261  5.177292   951.377075\n",
      "4           4  1262908153  151.167611  29.910828  4.431568   973.604980\n"
     ]
    }
   ],
   "source": [
    "for model in model_names:\n",
    "\n",
    "    filename_fn = lambda x: f'{x}-sample-stats.csv'\n",
    "    df = pd.read_csv(f'../data/exhaustive/{filename_fn(model)}')\n",
    "\n",
    "    print(df.head())"
   ]
  },
  {
   "cell_type": "code",
   "execution_count": null,
   "id": "78315e23",
   "metadata": {},
   "outputs": [],
   "source": []
  }
 ],
 "metadata": {
  "kernelspec": {
   "display_name": "plots",
   "language": "python",
   "name": "python3"
  },
  "language_info": {
   "codemirror_mode": {
    "name": "ipython",
    "version": 3
   },
   "file_extension": ".py",
   "mimetype": "text/x-python",
   "name": "python",
   "nbconvert_exporter": "python",
   "pygments_lexer": "ipython3",
   "version": "3.13.0"
  }
 },
 "nbformat": 4,
 "nbformat_minor": 5
}
