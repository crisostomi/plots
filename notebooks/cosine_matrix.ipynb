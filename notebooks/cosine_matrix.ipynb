{
 "cells": [
  {
   "cell_type": "code",
   "execution_count": 2,
   "id": "53063e00",
   "metadata": {},
   "outputs": [],
   "source": [
    "import numpy as np\n",
    "import seaborn as sns \n"
   ]
  },
  {
   "cell_type": "code",
   "execution_count": 3,
   "id": "9a9024d4",
   "metadata": {},
   "outputs": [
    {
     "name": "stderr",
     "output_type": "stream",
     "text": [
      "/home/donato/miniconda3/envs/ccmm/lib/python3.9/site-packages/tqdm/auto.py:21: TqdmWarning: IProgress not found. Please update jupyter and ipywidgets. See https://ipywidgets.readthedocs.io/en/stable/user_install.html\n",
      "  from .autonotebook import tqdm as notebook_tqdm\n"
     ]
    },
    {
     "data": {
      "text/plain": [
       "array([[ 1.00000012e+00,  2.26719469e-01,  1.34806372e-02, ...,\n",
       "        -1.98359601e-04,  3.09557654e-04,  2.56933942e-02],\n",
       "       [ 2.26719469e-01,  1.00000024e+00,  1.06041476e-01, ...,\n",
       "         4.90117185e-02,  4.98511642e-02,  4.44668159e-02],\n",
       "       [ 1.34806372e-02,  1.06041476e-01,  9.99999702e-01, ...,\n",
       "         2.02925369e-01,  2.15994716e-01,  1.78720593e-01],\n",
       "       ...,\n",
       "       [-1.98359601e-04,  4.90117185e-02,  2.02925369e-01, ...,\n",
       "         9.99999940e-01,  9.77959752e-01,  5.97385287e-01],\n",
       "       [ 3.09557188e-04,  4.98511717e-02,  2.15994716e-01, ...,\n",
       "         9.77959752e-01,  9.99999940e-01,  6.28584802e-01],\n",
       "       [ 2.56933980e-02,  4.44668345e-02,  1.78720623e-01, ...,\n",
       "         5.97385287e-01,  6.28584802e-01,  9.99999940e-01]], dtype=float32)"
      ]
     },
     "execution_count": 3,
     "metadata": {},
     "output_type": "execute_result"
    }
   ],
   "source": [
    "import torch \n",
    "\n",
    "matrix = torch.load('cos_sim_matrix.pt')\n",
    "\n",
    "matrix"
   ]
  },
  {
   "cell_type": "code",
   "execution_count": null,
   "id": "44ac24ff",
   "metadata": {},
   "outputs": [],
   "source": []
  },
  {
   "cell_type": "code",
   "execution_count": null,
   "id": "ed36c3d2",
   "metadata": {},
   "outputs": [
    {
     "data": {
      "image/png": "[encoded data removed]",
      "text/plain": [
       "<Figure size 640x480 with 2 Axes>"
      ]
     },
     "metadata": {},
     "output_type": "display_data"
    }
   ],
   "source": [
    "import numpy as np\n",
    "import seaborn as sns\n",
    "import matplotlib.pyplot as plt\n",
    "\n",
    "\n",
    "plt.rcParams.update(\n",
    "    {\n",
    "        \"text.usetex\": True,\n",
    "        \"font.family\": \"serif\",\n",
    "        \"axes.titlesize\": 24,  # Larger axes/title fonts\n",
    "        \"axes.labelsize\": 24,\n",
    "        \"xtick.labelsize\": 24,\n",
    "        \"ytick.labelsize\": 20,\n",
    "        \"legend.fontsize\": 24,\n",
    "    }\n",
    ")\n",
    "sns.set_context(\"talk\")\n",
    "\n",
    "\n",
    "# suppose `matrix` is your array\n",
    "im = sns.heatmap(\n",
    "    matrix,\n",
    "    cmap=sns.light_palette(\"#2A9D8F\", as_cmap=True),\n",
    "    cbar=False,\n",
    "    square=True,\n",
    ")\n",
    "\n",
    "# add colorbar\n",
    "cbar = im.figure.colorbar(im.collections[0])\n",
    "cbar.ax.tick_params(labelsize=14)\n",
    "\n",
    "# set ticks every 5\n",
    "step = 10\n",
    "xticks = np.arange(0, matrix.shape[1], step)\n",
    "yticks = np.arange(0, matrix.shape[0], step)\n",
    "\n",
    "im.set_xticks(xticks)\n",
    "im.set_yticks(yticks)\n",
    "\n",
    "# set tick labels as integers\n",
    "im.set_xticklabels(xticks, rotation=90, fontsize=12)\n",
    "im.set_yticklabels(yticks, fontsize=12)\n",
    "\n",
    "# axis labels\n",
    "im.set_xlabel(\"layers\", fontsize=18)\n",
    "im.set_ylabel(\"layers\", fontsize=18)\n",
    "\n",
    "for spine in cbar.ax.spines.values():\n",
    "    spine.set_visible(False)\n",
    "\n",
    "cbar.ax.tick_params(\n",
    "    width=0.5,   # thickness of the ticks\n",
    "    length=4,    # length of the ticks (optional, default is 6)\n",
    "    labelsize=14\n",
    ")\n",
    "\n",
    "# thinner ticks on heatmap axes\n",
    "im.tick_params(\n",
    "    axis=\"both\",    # apply to both x and y\n",
    "    which=\"both\",   # major and minor ticks\n",
    "    width=0.5,      # thickness of tick lines\n",
    "    length=4,       # length of tick marks\n",
    "    labelsize=12    # size of tick labels\n",
    ")\n",
    "\n",
    "plt.tight_layout()\n",
    "\n",
    "plt.savefig(\"cosine_similarity_matrix.pdf\", dpi=300)"
   ]
  },
  {
   "cell_type": "code",
   "execution_count": null,
   "id": "bee077f7",
   "metadata": {},
   "outputs": [],
   "source": []
  }
 ],
 "metadata": {
  "kernelspec": {
   "display_name": "ccmm",
   "language": "python",
   "name": "python3"
  },
  "language_info": {
   "codemirror_mode": {
    "name": "ipython",
    "version": 3
   },
   "file_extension": ".py",
   "mimetype": "text/x-python",
   "name": "python",
   "nbconvert_exporter": "python",
   "pygments_lexer": "ipython3",
   "version": "3.9.19"
  }
 },
 "nbformat": 4,
 "nbformat_minor": 5
}
